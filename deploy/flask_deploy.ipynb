{
 "cells": [
  {
   "cell_type": "code",
   "execution_count": null,
   "id": "aff32e16",
   "metadata": {},
   "outputs": [
    {
     "name": "stdout",
     "output_type": "stream",
     "text": [
      " * Serving Flask app \"__main__\" (lazy loading)\n",
      " * Environment: production\n",
      "\u001b[31m   WARNING: This is a development server. Do not use it in a production deployment.\u001b[0m\n",
      "\u001b[2m   Use a production WSGI server instead.\u001b[0m\n",
      " * Debug mode: off\n"
     ]
    },
    {
     "name": "stderr",
     "output_type": "stream",
     "text": [
      " * Running on http://localhost:7000/ (Press CTRL+C to quit)\n",
      "127.0.0.1 - - [29/Mar/2023 23:14:00] \"\u001b[37mGET / HTTP/1.1\u001b[0m\" 200 -\n"
     ]
    },
    {
     "name": "stdout",
     "output_type": "stream",
     "text": [
      "['easy_98_0001.jpg']\n",
      "['easy_98_0001.jpg']\n",
      "1/1 [==============================] - 0s 114ms/step\n",
      "classes ['fake', 'real']\n",
      "prediction [0.99999917, 7.7647803e-07]\n",
      "output {'fake': 0.99999917, 'real': 7.7647803e-07}\n",
      "1/1 [==============================] - 0s 33ms/step\n"
     ]
    },
    {
     "name": "stderr",
     "output_type": "stream",
     "text": [
      "127.0.0.1 - - [29/Mar/2023 23:14:06] \"\u001b[37mPOST /predict HTTP/1.1\u001b[0m\" 200 -\n"
     ]
    },
    {
     "name": "stdout",
     "output_type": "stream",
     "text": [
      "Class: fake Confidence: 100.00\n",
      "check fake\n",
      "['easy_99_0101.jpg']\n",
      "['easy_99_0101.jpg']\n",
      "1/1 [==============================] - 1s 762ms/step\n",
      "classes ['fake', 'real']\n",
      "prediction [0.9999974, 2.5896577e-06]\n",
      "output {'fake': 0.9999974, 'real': 2.5896577e-06}\n",
      "1/1 [==============================] - 0s 32ms/step\n"
     ]
    },
    {
     "name": "stderr",
     "output_type": "stream",
     "text": [
      "127.0.0.1 - - [29/Mar/2023 23:14:14] \"\u001b[37mPOST /predict HTTP/1.1\u001b[0m\" 200 -\n"
     ]
    },
    {
     "name": "stdout",
     "output_type": "stream",
     "text": [
      "Class: fake Confidence: 100.00\n",
      "check fake\n",
      "['easy_100_1111.jpg']\n",
      "['easy_100_1111.jpg']\n",
      "1/1 [==============================] - 0s 85ms/step\n",
      "classes ['fake', 'real']\n",
      "prediction [0.0011263238, 0.99887365]\n",
      "output {'fake': 0.0011263238, 'real': 0.99887365}\n",
      "1/1 [==============================] - 0s 32ms/step\n"
     ]
    },
    {
     "name": "stderr",
     "output_type": "stream",
     "text": [
      "127.0.0.1 - - [29/Mar/2023 23:15:42] \"\u001b[37mPOST /predict HTTP/1.1\u001b[0m\" 200 -\n"
     ]
    },
    {
     "name": "stdout",
     "output_type": "stream",
     "text": [
      "Class: real Confidence: 99.89\n",
      "check real\n",
      "['easy_101_0010.jpg']\n",
      "['easy_101_0010.jpg']\n",
      "1/1 [==============================] - 0s 77ms/step\n",
      "classes ['fake', 'real']\n",
      "prediction [1.0, 2.9350179e-15]\n",
      "output {'fake': 1.0, 'real': 2.9350179e-15}\n",
      "1/1 [==============================] - 0s 35ms/step\n"
     ]
    },
    {
     "name": "stderr",
     "output_type": "stream",
     "text": [
      "127.0.0.1 - - [29/Mar/2023 23:16:29] \"\u001b[37mPOST /predict HTTP/1.1\u001b[0m\" 200 -\n"
     ]
    },
    {
     "name": "stdout",
     "output_type": "stream",
     "text": [
      "Class: fake Confidence: 100.00\n",
      "check fake\n",
      "['easy_100_1111.jpg']\n",
      "['easy_100_1111.jpg']\n",
      "['easy_100_1111.jpg']\n",
      "['easy_100_1111.jpg']\n",
      "1/1 [==============================] - 0s 187ms/step\n",
      "classes ['fake', 'real']\n",
      "prediction [0.0011263238, 0.99887365]\n",
      "output {'fake': 0.0011263238, 'real': 0.99887365}\n",
      "1/1 [==============================] - 0s 47ms/step\n"
     ]
    },
    {
     "name": "stderr",
     "output_type": "stream",
     "text": [
      "127.0.0.1 - - [29/Mar/2023 23:16:38] \"\u001b[37mPOST /predict HTTP/1.1\u001b[0m\" 200 -\n"
     ]
    },
    {
     "name": "stdout",
     "output_type": "stream",
     "text": [
      "Class: real Confidence: 99.89\n",
      "check real\n",
      "1/1 [==============================] - 0s 100ms/step\n",
      "classes ['fake', 'real']\n",
      "prediction [0.0011263238, 0.99887365]\n",
      "output {'fake': 0.0011263238, 'real': 0.99887365}\n",
      "1/1 [==============================] - 0s 35ms/step\n"
     ]
    },
    {
     "name": "stderr",
     "output_type": "stream",
     "text": [
      "127.0.0.1 - - [29/Mar/2023 23:16:38] \"\u001b[37mPOST /predict HTTP/1.1\u001b[0m\" 200 -\n"
     ]
    },
    {
     "name": "stdout",
     "output_type": "stream",
     "text": [
      "Class: real Confidence: 99.89\n",
      "check real\n",
      "['easy_102_0101.jpg']\n",
      "['easy_102_0101.jpg']\n",
      "1/1 [==============================] - 0s 83ms/step\n",
      "classes ['fake', 'real']\n",
      "prediction [0.9812981, 0.01870195]\n",
      "output {'fake': 0.9812981, 'real': 0.01870195}\n",
      "1/1 [==============================] - 0s 44ms/step\n"
     ]
    },
    {
     "name": "stderr",
     "output_type": "stream",
     "text": [
      "127.0.0.1 - - [29/Mar/2023 23:16:47] \"\u001b[37mPOST /predict HTTP/1.1\u001b[0m\" 200 -\n"
     ]
    },
    {
     "name": "stdout",
     "output_type": "stream",
     "text": [
      "Class: fake Confidence: 98.13\n",
      "check fake\n",
      "['easy_103_1111.jpg']\n",
      "['easy_103_1111.jpg']\n",
      "1/1 [==============================] - 0s 82ms/step\n",
      "classes ['fake', 'real']\n",
      "prediction [0.9999969, 3.0742465e-06]\n",
      "output {'fake': 0.9999969, 'real': 3.0742465e-06}\n",
      "1/1 [==============================] - 0s 40ms/step\n"
     ]
    },
    {
     "name": "stderr",
     "output_type": "stream",
     "text": [
      "127.0.0.1 - - [29/Mar/2023 23:16:55] \"\u001b[37mPOST /predict HTTP/1.1\u001b[0m\" 200 -\n"
     ]
    },
    {
     "name": "stdout",
     "output_type": "stream",
     "text": [
      "Class: fake Confidence: 100.00\n",
      "check fake\n",
      "['easy_104_1000.jpg']\n",
      "['easy_104_1000.jpg']\n",
      "1/1 [==============================] - 0s 102ms/step\n",
      "classes ['fake', 'real']\n",
      "prediction [1.0, 2.0193329e-21]\n",
      "output {'fake': 1.0, 'real': 2.0193329e-21}\n",
      "1/1 [==============================] - 0s 32ms/step\n"
     ]
    },
    {
     "name": "stderr",
     "output_type": "stream",
     "text": [
      "127.0.0.1 - - [29/Mar/2023 23:17:03] \"\u001b[37mPOST /predict HTTP/1.1\u001b[0m\" 200 -\n"
     ]
    },
    {
     "name": "stdout",
     "output_type": "stream",
     "text": [
      "Class: fake Confidence: 100.00\n",
      "check fake\n",
      "['easy_105_1100.jpg']\n",
      "['easy_105_1100.jpg']\n",
      "1/1 [==============================] - 0s 100ms/step\n",
      "classes ['fake', 'real']\n",
      "prediction [1.0, 6.4023298e-09]\n",
      "output {'fake': 1.0, 'real': 6.4023298e-09}\n",
      "1/1 [==============================] - 0s 31ms/step\n"
     ]
    },
    {
     "name": "stderr",
     "output_type": "stream",
     "text": [
      "127.0.0.1 - - [29/Mar/2023 23:17:10] \"\u001b[37mPOST /predict HTTP/1.1\u001b[0m\" 200 -\n"
     ]
    },
    {
     "name": "stdout",
     "output_type": "stream",
     "text": [
      "Class: fake Confidence: 100.00\n",
      "check fake\n",
      "['easy_106_0011.jpg']\n",
      "['easy_106_0011.jpg']\n",
      "1/1 [==============================] - 0s 87ms/step\n",
      "classes ['fake', 'real']\n",
      "prediction [0.32491437, 0.6750856]\n",
      "output {'fake': 0.32491437, 'real': 0.6750856}\n",
      "1/1 [==============================] - 0s 35ms/step\n"
     ]
    },
    {
     "name": "stderr",
     "output_type": "stream",
     "text": [
      "127.0.0.1 - - [29/Mar/2023 23:17:20] \"\u001b[37mPOST /predict HTTP/1.1\u001b[0m\" 200 -\n"
     ]
    },
    {
     "name": "stdout",
     "output_type": "stream",
     "text": [
      "Class: real Confidence: 67.51\n",
      "check real\n",
      "['easy_106_0011.jpg']\n",
      "['easy_106_0011.jpg']\n",
      "1/1 [==============================] - 0s 88ms/step\n",
      "classes ['fake', 'real']\n",
      "prediction [0.32491437, 0.6750856]\n",
      "output {'fake': 0.32491437, 'real': 0.6750856}\n",
      "1/1 [==============================] - 0s 33ms/step\n"
     ]
    },
    {
     "name": "stderr",
     "output_type": "stream",
     "text": [
      "127.0.0.1 - - [29/Mar/2023 23:17:31] \"\u001b[37mPOST /predict HTTP/1.1\u001b[0m\" 200 -\n"
     ]
    },
    {
     "name": "stdout",
     "output_type": "stream",
     "text": [
      "Class: real Confidence: 67.51\n",
      "check real\n",
      "['easy_105_1100.jpg']\n",
      "['easy_105_1100.jpg']\n",
      "['easy_105_1100.jpg']\n",
      "['easy_105_1100.jpg']\n",
      "1/1 [==============================] - 0s 159ms/step\n",
      "classes ['fake', 'real']\n",
      "prediction [1.0, 6.4023298e-09]\n",
      "output {'fake': 1.0, 'real': 6.4023298e-09}\n",
      "1/1 [==============================] - 0s 54ms/step\n"
     ]
    },
    {
     "name": "stderr",
     "output_type": "stream",
     "text": [
      "127.0.0.1 - - [29/Mar/2023 23:17:42] \"\u001b[37mPOST /predict HTTP/1.1\u001b[0m\" 200 -\n"
     ]
    },
    {
     "name": "stdout",
     "output_type": "stream",
     "text": [
      "Class: fake Confidence: 100.00\n",
      "check fake\n",
      "1/1 [==============================] - 0s 92ms/step\n",
      "classes ['fake', 'real']\n",
      "prediction [1.0, 6.4023298e-09]\n",
      "output {'fake': 1.0, 'real': 6.4023298e-09}\n",
      "1/1 [==============================] - 0s 31ms/step\n"
     ]
    },
    {
     "name": "stderr",
     "output_type": "stream",
     "text": [
      "127.0.0.1 - - [29/Mar/2023 23:17:43] \"\u001b[37mPOST /predict HTTP/1.1\u001b[0m\" 200 -\n"
     ]
    },
    {
     "name": "stdout",
     "output_type": "stream",
     "text": [
      "Class: fake Confidence: 100.00\n",
      "check fake\n",
      "['easy_106_0011.jpg']\n",
      "['easy_106_0011.jpg']\n",
      "1/1 [==============================] - 0s 85ms/step\n",
      "classes ['fake', 'real']\n",
      "prediction [0.32491437, 0.6750856]\n",
      "output {'fake': 0.32491437, 'real': 0.6750856}\n",
      "1/1 [==============================] - 0s 40ms/step\n"
     ]
    },
    {
     "name": "stderr",
     "output_type": "stream",
     "text": [
      "127.0.0.1 - - [29/Mar/2023 23:17:48] \"\u001b[37mPOST /predict HTTP/1.1\u001b[0m\" 200 -\n"
     ]
    },
    {
     "name": "stdout",
     "output_type": "stream",
     "text": [
      "Class: real Confidence: 67.51\n",
      "check real\n",
      "['easy_107_1011.jpg']\n",
      "['easy_107_1011.jpg']\n",
      "1/1 [==============================] - 0s 86ms/step\n",
      "classes ['fake', 'real']\n",
      "prediction [0.99999845, 1.5308927e-06]\n",
      "output {'fake': 0.99999845, 'real': 1.5308927e-06}\n",
      "1/1 [==============================] - 0s 37ms/step\n"
     ]
    },
    {
     "name": "stderr",
     "output_type": "stream",
     "text": [
      "127.0.0.1 - - [29/Mar/2023 23:17:59] \"\u001b[37mPOST /predict HTTP/1.1\u001b[0m\" 200 -\n"
     ]
    },
    {
     "name": "stdout",
     "output_type": "stream",
     "text": [
      "Class: fake Confidence: 100.00\n",
      "check fake\n",
      "['easy_108_1111.jpg']\n",
      "['easy_108_1111.jpg']\n",
      "1/1 [==============================] - 0s 78ms/step\n",
      "classes ['fake', 'real']\n",
      "prediction [1.0, 4.6015582e-09]\n",
      "output {'fake': 1.0, 'real': 4.6015582e-09}\n",
      "1/1 [==============================] - 0s 35ms/step\n"
     ]
    },
    {
     "name": "stderr",
     "output_type": "stream",
     "text": [
      "127.0.0.1 - - [29/Mar/2023 23:18:05] \"\u001b[37mPOST /predict HTTP/1.1\u001b[0m\" 200 -\n"
     ]
    },
    {
     "name": "stdout",
     "output_type": "stream",
     "text": [
      "Class: fake Confidence: 100.00\n",
      "check fake\n",
      "['easy_107_1011.jpg']\n",
      "['easy_107_1011.jpg']\n",
      "1/1 [==============================] - 0s 100ms/step\n",
      "classes ['fake', 'real']\n",
      "prediction [0.99999845, 1.5308927e-06]\n",
      "output {'fake': 0.99999845, 'real': 1.5308927e-06}\n",
      "1/1 [==============================] - 0s 31ms/step\n"
     ]
    },
    {
     "name": "stderr",
     "output_type": "stream",
     "text": [
      "127.0.0.1 - - [29/Mar/2023 23:18:13] \"\u001b[37mPOST /predict HTTP/1.1\u001b[0m\" 200 -\n"
     ]
    },
    {
     "name": "stdout",
     "output_type": "stream",
     "text": [
      "Class: fake Confidence: 100.00\n",
      "check fake\n",
      "['easy_109_1111.jpg']\n",
      "['easy_109_1111.jpg']\n",
      "1/1 [==============================] - 0s 83ms/step\n",
      "classes ['fake', 'real']\n",
      "prediction [0.0029698915, 0.99703014]\n",
      "output {'fake': 0.0029698915, 'real': 0.99703014}\n",
      "1/1 [==============================] - 0s 32ms/step\n"
     ]
    },
    {
     "name": "stderr",
     "output_type": "stream",
     "text": [
      "127.0.0.1 - - [29/Mar/2023 23:18:18] \"\u001b[37mPOST /predict HTTP/1.1\u001b[0m\" 200 -\n"
     ]
    },
    {
     "name": "stdout",
     "output_type": "stream",
     "text": [
      "Class: real Confidence: 99.70\n",
      "check real\n",
      "['easy_109_1111.jpg']\n",
      "['easy_109_1111.jpg']\n",
      "1/1 [==============================] - 0s 91ms/step\n",
      "classes ['fake', 'real']\n",
      "prediction [0.0029698915, 0.99703014]\n",
      "output {'fake': 0.0029698915, 'real': 0.99703014}\n",
      "1/1 [==============================] - 0s 33ms/step\n"
     ]
    },
    {
     "name": "stderr",
     "output_type": "stream",
     "text": [
      "127.0.0.1 - - [29/Mar/2023 23:18:25] \"\u001b[37mPOST /predict HTTP/1.1\u001b[0m\" 200 -\n"
     ]
    },
    {
     "name": "stdout",
     "output_type": "stream",
     "text": [
      "Class: real Confidence: 99.70\n",
      "check real\n",
      "['easy_110_0001.jpg']\n",
      "['easy_110_0001.jpg']\n",
      "1/1 [==============================] - 0s 88ms/step\n",
      "classes ['fake', 'real']\n",
      "prediction [0.99999976, 2.6153282e-07]\n",
      "output {'fake': 0.99999976, 'real': 2.6153282e-07}\n",
      "1/1 [==============================] - 0s 33ms/step\n"
     ]
    },
    {
     "name": "stderr",
     "output_type": "stream",
     "text": [
      "127.0.0.1 - - [29/Mar/2023 23:18:35] \"\u001b[37mPOST /predict HTTP/1.1\u001b[0m\" 200 -\n"
     ]
    },
    {
     "name": "stdout",
     "output_type": "stream",
     "text": [
      "Class: fake Confidence: 100.00\n",
      "check fake\n",
      "['real_00245.jpg']\n",
      "['real_00245.jpg']\n",
      "1/1 [==============================] - 0s 102ms/step\n",
      "classes ['fake', 'real']\n",
      "prediction [3.7473895e-09, 1.0]\n",
      "output {'fake': 3.7473895e-09, 'real': 1.0}\n",
      "1/1 [==============================] - 0s 35ms/step\n"
     ]
    },
    {
     "name": "stderr",
     "output_type": "stream",
     "text": [
      "127.0.0.1 - - [29/Mar/2023 23:18:43] \"\u001b[37mPOST /predict HTTP/1.1\u001b[0m\" 200 -\n"
     ]
    },
    {
     "name": "stdout",
     "output_type": "stream",
     "text": [
      "Class: real Confidence: 100.00\n",
      "check real\n",
      "['real_00246.jpg']\n",
      "['real_00246.jpg']\n",
      "1/1 [==============================] - 0s 96ms/step\n",
      "classes ['fake', 'real']\n",
      "prediction [1.1693183e-09, 1.0]\n",
      "output {'fake': 1.1693183e-09, 'real': 1.0}\n",
      "1/1 [==============================] - 0s 42ms/step\n"
     ]
    },
    {
     "name": "stderr",
     "output_type": "stream",
     "text": [
      "127.0.0.1 - - [29/Mar/2023 23:18:50] \"\u001b[37mPOST /predict HTTP/1.1\u001b[0m\" 200 -\n"
     ]
    },
    {
     "name": "stdout",
     "output_type": "stream",
     "text": [
      "Class: real Confidence: 100.00\n",
      "check real\n",
      "['real_00247.jpg']\n",
      "['real_00247.jpg']\n",
      "1/1 [==============================] - 0s 103ms/step\n",
      "classes ['fake', 'real']\n",
      "prediction [5.1224365e-06, 0.9999949]\n",
      "output {'fake': 5.1224365e-06, 'real': 0.9999949}\n",
      "1/1 [==============================] - 0s 45ms/step\n"
     ]
    },
    {
     "name": "stderr",
     "output_type": "stream",
     "text": [
      "127.0.0.1 - - [29/Mar/2023 23:18:59] \"\u001b[37mPOST /predict HTTP/1.1\u001b[0m\" 200 -\n"
     ]
    },
    {
     "name": "stdout",
     "output_type": "stream",
     "text": [
      "Class: real Confidence: 100.00\n",
      "check real\n",
      "['real_00248.jpg']\n",
      "['real_00248.jpg']\n",
      "1/1 [==============================] - 0s 93ms/step\n",
      "classes ['fake', 'real']\n",
      "prediction [1.4188707e-07, 0.9999999]\n",
      "output {'fake': 1.4188707e-07, 'real': 0.9999999}\n",
      "1/1 [==============================] - 0s 34ms/step\n"
     ]
    },
    {
     "name": "stderr",
     "output_type": "stream",
     "text": [
      "127.0.0.1 - - [29/Mar/2023 23:19:05] \"\u001b[37mPOST /predict HTTP/1.1\u001b[0m\" 200 -\n"
     ]
    },
    {
     "name": "stdout",
     "output_type": "stream",
     "text": [
      "Class: real Confidence: 100.00\n",
      "check real\n",
      "['real_00249.jpg']\n",
      "['real_00249.jpg']\n",
      "1/1 [==============================] - 0s 94ms/step\n",
      "classes ['fake', 'real']\n",
      "prediction [7.746552e-17, 1.0]\n",
      "output {'fake': 7.746552e-17, 'real': 1.0}\n",
      "1/1 [==============================] - 0s 30ms/step\n"
     ]
    },
    {
     "name": "stderr",
     "output_type": "stream",
     "text": [
      "127.0.0.1 - - [29/Mar/2023 23:19:10] \"\u001b[37mPOST /predict HTTP/1.1\u001b[0m\" 200 -\n"
     ]
    },
    {
     "name": "stdout",
     "output_type": "stream",
     "text": [
      "Class: real Confidence: 100.00\n",
      "check real\n",
      "['real_00250.jpg']\n",
      "['real_00250.jpg']\n",
      "1/1 [==============================] - 0s 99ms/step\n",
      "classes ['fake', 'real']\n",
      "prediction [2.999695e-05, 0.99996996]\n",
      "output {'fake': 2.999695e-05, 'real': 0.99996996}\n",
      "1/1 [==============================] - 0s 34ms/step\n"
     ]
    },
    {
     "name": "stderr",
     "output_type": "stream",
     "text": [
      "127.0.0.1 - - [29/Mar/2023 23:19:16] \"\u001b[37mPOST /predict HTTP/1.1\u001b[0m\" 200 -\n"
     ]
    },
    {
     "name": "stdout",
     "output_type": "stream",
     "text": [
      "Class: real Confidence: 100.00\n",
      "check real\n",
      "['real_00250.jpg']\n",
      "['real_00250.jpg']\n",
      "1/1 [==============================] - 0s 86ms/step\n",
      "classes ['fake', 'real']\n",
      "prediction [2.999695e-05, 0.99996996]\n",
      "output {'fake': 2.999695e-05, 'real': 0.99996996}\n",
      "1/1 [==============================] - 0s 35ms/step\n"
     ]
    },
    {
     "name": "stderr",
     "output_type": "stream",
     "text": [
      "127.0.0.1 - - [29/Mar/2023 23:19:22] \"\u001b[37mPOST /predict HTTP/1.1\u001b[0m\" 200 -\n"
     ]
    },
    {
     "name": "stdout",
     "output_type": "stream",
     "text": [
      "Class: real Confidence: 100.00\n",
      "check real\n",
      "['real_00251.jpg']\n",
      "['real_00251.jpg']\n",
      "1/1 [==============================] - 0s 91ms/step\n",
      "classes ['fake', 'real']\n",
      "prediction [6.4513065e-06, 0.99999356]\n",
      "output {'fake': 6.4513065e-06, 'real': 0.99999356}\n",
      "1/1 [==============================] - 0s 36ms/step\n"
     ]
    },
    {
     "name": "stderr",
     "output_type": "stream",
     "text": [
      "127.0.0.1 - - [29/Mar/2023 23:19:27] \"\u001b[37mPOST /predict HTTP/1.1\u001b[0m\" 200 -\n"
     ]
    },
    {
     "name": "stdout",
     "output_type": "stream",
     "text": [
      "Class: real Confidence: 100.00\n",
      "check real\n",
      "['real_00252.jpg']\n",
      "['real_00252.jpg']\n",
      "1/1 [==============================] - 0s 98ms/step\n",
      "classes ['fake', 'real']\n",
      "prediction [0.000142064, 0.9998579]\n",
      "output {'fake': 0.000142064, 'real': 0.9998579}\n",
      "1/1 [==============================] - 0s 42ms/step\n"
     ]
    },
    {
     "name": "stderr",
     "output_type": "stream",
     "text": [
      "127.0.0.1 - - [29/Mar/2023 23:19:33] \"\u001b[37mPOST /predict HTTP/1.1\u001b[0m\" 200 -\n"
     ]
    },
    {
     "name": "stdout",
     "output_type": "stream",
     "text": [
      "Class: real Confidence: 99.99\n",
      "check real\n",
      "['real_00252.jpg']\n",
      "['real_00252.jpg']\n",
      "1/1 [==============================] - 0s 79ms/step\n",
      "classes ['fake', 'real']\n",
      "prediction [0.000142064, 0.9998579]\n",
      "output {'fake': 0.000142064, 'real': 0.9998579}\n",
      "1/1 [==============================] - 0s 37ms/step\n"
     ]
    },
    {
     "name": "stderr",
     "output_type": "stream",
     "text": [
      "127.0.0.1 - - [29/Mar/2023 23:19:39] \"\u001b[37mPOST /predict HTTP/1.1\u001b[0m\" 200 -\n"
     ]
    },
    {
     "name": "stdout",
     "output_type": "stream",
     "text": [
      "Class: real Confidence: 99.99\n",
      "check real\n",
      "['real_00253.jpg']\n",
      "['real_00253.jpg']\n",
      "1/1 [==============================] - 0s 81ms/step\n",
      "classes ['fake', 'real']\n",
      "prediction [1.3651131e-05, 0.9999863]\n",
      "output {'fake': 1.3651131e-05, 'real': 0.9999863}\n",
      "1/1 [==============================] - 0s 34ms/step\n"
     ]
    },
    {
     "name": "stderr",
     "output_type": "stream",
     "text": [
      "127.0.0.1 - - [29/Mar/2023 23:19:45] \"\u001b[37mPOST /predict HTTP/1.1\u001b[0m\" 200 -\n"
     ]
    },
    {
     "name": "stdout",
     "output_type": "stream",
     "text": [
      "Class: real Confidence: 100.00\n",
      "check real\n",
      "['real_00254.jpg']\n",
      "['real_00254.jpg']\n",
      "1/1 [==============================] - 0s 80ms/step\n",
      "classes ['fake', 'real']\n",
      "prediction [7.762723e-12, 1.0]\n",
      "output {'fake': 7.762723e-12, 'real': 1.0}\n",
      "1/1 [==============================] - 0s 31ms/step\n"
     ]
    },
    {
     "name": "stderr",
     "output_type": "stream",
     "text": [
      "127.0.0.1 - - [29/Mar/2023 23:19:50] \"\u001b[37mPOST /predict HTTP/1.1\u001b[0m\" 200 -\n"
     ]
    },
    {
     "name": "stdout",
     "output_type": "stream",
     "text": [
      "Class: real Confidence: 100.00\n",
      "check real\n",
      "['real_00255.jpg']\n",
      "['real_00255.jpg']\n",
      "1/1 [==============================] - 0s 81ms/step\n",
      "classes ['fake', 'real']\n",
      "prediction [0.00082022866, 0.9991798]\n",
      "output {'fake': 0.00082022866, 'real': 0.9991798}\n",
      "1/1 [==============================] - 0s 34ms/step\n"
     ]
    },
    {
     "name": "stderr",
     "output_type": "stream",
     "text": [
      "127.0.0.1 - - [29/Mar/2023 23:19:57] \"\u001b[37mPOST /predict HTTP/1.1\u001b[0m\" 200 -\n"
     ]
    },
    {
     "name": "stdout",
     "output_type": "stream",
     "text": [
      "Class: real Confidence: 99.92\n",
      "check real\n",
      "['real_00256.jpg']\n",
      "['real_00256.jpg']\n",
      "1/1 [==============================] - 0s 84ms/step\n",
      "classes ['fake', 'real']\n",
      "prediction [3.3422683e-07, 0.99999964]\n",
      "output {'fake': 3.3422683e-07, 'real': 0.99999964}\n",
      "1/1 [==============================] - 0s 38ms/step\n"
     ]
    },
    {
     "name": "stderr",
     "output_type": "stream",
     "text": [
      "127.0.0.1 - - [29/Mar/2023 23:20:02] \"\u001b[37mPOST /predict HTTP/1.1\u001b[0m\" 200 -\n"
     ]
    },
    {
     "name": "stdout",
     "output_type": "stream",
     "text": [
      "Class: real Confidence: 100.00\n",
      "check real\n",
      "['real_00257.jpg']\n",
      "['real_00257.jpg']\n",
      "1/1 [==============================] - 0s 114ms/step\n",
      "classes ['fake', 'real']\n",
      "prediction [0.0055351257, 0.99446493]\n",
      "output {'fake': 0.0055351257, 'real': 0.99446493}\n",
      "1/1 [==============================] - 0s 37ms/step\n"
     ]
    },
    {
     "name": "stderr",
     "output_type": "stream",
     "text": [
      "127.0.0.1 - - [29/Mar/2023 23:20:08] \"\u001b[37mPOST /predict HTTP/1.1\u001b[0m\" 200 -\n"
     ]
    },
    {
     "name": "stdout",
     "output_type": "stream",
     "text": [
      "Class: real Confidence: 99.45\n",
      "check real\n"
     ]
    }
   ],
   "source": [
    "##### from tensorflow.keras.preprocessing import image\n",
    "\n",
    "import numpy as np\n",
    "from flask import Flask, request, jsonify, render_template\n",
    "import pickle\n",
    "import joblib\n",
    "import matplotlib.pyplot as plt\n",
    "import h5py\n",
    "import tensorflow as tf\n",
    "from PIL import Image, ImageChops, ImageEnhance\n",
    "\n",
    "\n",
    "def convert_to_ela_image(path, quality):\n",
    "    temp_filename = 'temp_file_name.jpg'\n",
    "    ela_filename = 'temp_ela.png'\n",
    "    \n",
    "    image = Image.open(path).convert('RGB')\n",
    "    image.save(temp_filename, 'JPEG', quality = quality)\n",
    "    temp_image = Image.open(temp_filename)\n",
    "    \n",
    "    ela_image = ImageChops.difference(image, temp_image)\n",
    "    \n",
    "    extrema = ela_image.getextrema()\n",
    "    max_diff = max([ex[1] for ex in extrema])\n",
    "    if max_diff == 0:\n",
    "        max_diff = 1\n",
    "    scale = 255.0 / max_diff\n",
    "    \n",
    "    ela_image = ImageEnhance.Brightness(ela_image).enhance(scale)\n",
    "    \n",
    "    return ela_image\n",
    "image_size = (128, 128)\n",
    "\n",
    "def prepare_image(image_path):\n",
    "    return np.array(convert_to_ela_image(image_path, 90).resize(image_size)).flatten() / 255.0\n",
    "app = Flask(__name__)\n",
    "tf.keras.models.load_model('fake.h5')\n",
    "\n",
    "\n",
    "\n",
    "@app.route('/')\n",
    "def home():\n",
    "    return render_template('index.html')\n",
    "\n",
    "@app.route('/predict',methods=['POST'])\n",
    "def predict():\n",
    "    '''\n",
    "    For rendering results on HTML GUI\n",
    "    '''\n",
    "    int_features = [(x) for x in request.form.values()]\n",
    "    final_features = int_features\n",
    "    print(final_features)\n",
    "    img = final_features\n",
    "    print(img)\n",
    "\n",
    "#    classifierLoad = tf.keras.models.load_model('detector.h5')\n",
    "    classifierLoad = tf.keras.models.load_model('model.h5')\n",
    "\n",
    "    \n",
    "    image_path = \"testing/\"+img[0]\n",
    "    image = prepare_image(image_path)\n",
    "    image = image.reshape(-1, 128, 128, 3)\n",
    "\n",
    "    result = classifierLoad.predict(image)\n",
    "\n",
    "    prediction = result[0]\n",
    "\n",
    "    classes = [\"fake\", \"real\"]\n",
    "\n",
    "    print(\"classes\",classes)\n",
    "\n",
    "    prediction=list(prediction)\n",
    "\n",
    "    prediction\n",
    "    print(\"prediction\",prediction)\n",
    "\n",
    "\n",
    "    output=zip(classes,prediction)\n",
    "\n",
    "    output=dict(output)\n",
    "    print(\"output\",output)\n",
    "    \n",
    "# accuracy\n",
    "    class_names = ['fake', 'real']\n",
    "    image_path1 = \"testing/\"+img[0]\n",
    "    image1 = prepare_image(image_path1)\n",
    "    image1 = image1.reshape(-1, 128, 128, 3)\n",
    "    y_pred = classifierLoad.predict(image1)\n",
    "    y_pred_class = np.argmax(y_pred, axis = 1)[0]\n",
    "    print(f'Class: {class_names[y_pred_class]} Confidence: {np.amax(y_pred) * 100:0.2f}')\n",
    "    print(\"check\",class_names[y_pred_class])\n",
    "    \n",
    "    \n",
    "# final prediction    \n",
    "    if class_names[y_pred_class]==\"fake\":\n",
    "        res = \"Fake \"\n",
    "        acry = np.amax(y_pred) * 100\n",
    "    elif class_names[y_pred_class]==\"real\":\n",
    "        res =\"Real\"\n",
    "        acry = np.amax(y_pred) * 100\n",
    "\n",
    "    return render_template('index.html', prediction_text=' Image  Status :  {}'.format(res),accuracy='Image Accuracy :  {}'.format(np.amax(y_pred) * 100))\n",
    "\n",
    "if __name__ == \"__main__\":\n",
    "    app.run(host=\"localhost\", port=7000)\n"
   ]
  },
  {
   "cell_type": "code",
   "execution_count": null,
   "id": "7ffe54b4",
   "metadata": {},
   "outputs": [],
   "source": []
  }
 ],
 "metadata": {
  "kernelspec": {
   "display_name": "Python 3 (ipykernel)",
   "language": "python",
   "name": "python3"
  },
  "language_info": {
   "codemirror_mode": {
    "name": "ipython",
    "version": 3
   },
   "file_extension": ".py",
   "mimetype": "text/x-python",
   "name": "python",
   "nbconvert_exporter": "python",
   "pygments_lexer": "ipython3",
   "version": "3.9.13"
  }
 },
 "nbformat": 4,
 "nbformat_minor": 5
}
